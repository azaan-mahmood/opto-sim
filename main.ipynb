{
 "cells": [
  {
   "cell_type": "code",
   "execution_count": null,
   "metadata": {},
   "outputs": [],
   "source": [
    "from src.lasers import sslaser as laser\n",
    "from src.viewers.stokes import compute_stokes_parameters, poincare\n",
    "from src.viewers import polarimeter\n",
    "from src.opto_eq import polarizer\n",
    "import numpy as np"
   ]
  },
  {
   "cell_type": "code",
   "execution_count": null,
   "metadata": {},
   "outputs": [],
   "source": [
    "source = laser.SolidStateLaser(\n",
    "    wavelength=1550e-9,  # Laser wavelength\n",
    "    polarization_azimuth=np.pi,  # 180° polarization\n",
    "    polarization_ellipticity=np.pi/4,\n",
    "    power_dbm=-5,  # arbitrary power unit\n",
    "    frequency=5e6\n",
    ")"
   ]
  },
  {
   "cell_type": "code",
   "execution_count": null,
   "metadata": {},
   "outputs": [],
   "source": [
    "E = source.get_electric_field(normalize=False, over_period=True)\n",
    "S0, S1, S2, S3 = compute_stokes_parameters(E)\n",
    "psi = 0.5 * np.arctan2(S2, S1)\n",
    "chi = 0.5 * np.arcsin(S3 / S0)\n",
    "print(f\"------------------Stokes of Source---------------------\")\n",
    "print(f\"S0 = {S0:.3f}\\nS1 = {S1:.3f}\\nS2 = {S2:.3f}\\nS3 = {S3:.3f}\")\n",
    "print(f\"Psi (polarization azimuth) = {np.rad2deg(psi):.3f}°\")\n",
    "print(f\"Chi (polarization ellipticity) = {np.rad2deg(chi):.3f}°\")"
   ]
  },
  {
   "cell_type": "code",
   "execution_count": null,
   "metadata": {},
   "outputs": [],
   "source": [
    "E = polarizer(E, polarization=\"45\")\n",
    "S0, S1, S2, S3 = compute_stokes_parameters(E)\n",
    "psi = 0.5 * np.arctan2(S2, S1)\n",
    "chi = 0.5 * np.arcsin(S3 / S0)\n",
    "print(f\"------------------Stokes after 45---------------------\")\n",
    "print(f\"S0 = {S0:.3f}\\nS1 = {S1:.3f}\\nS2 = {S2:.3f}\\nS3 = {S3:.3f}\")\n",
    "print(f\"Psi (polarization azimuth) = {np.rad2deg(psi):.3f}°\")\n",
    "print(f\"Chi (polarization ellipticity) = {np.rad2deg(chi):.3f}°\")"
   ]
  },
  {
   "cell_type": "code",
   "execution_count": null,
   "metadata": {},
   "outputs": [],
   "source": [
    "polarimeter(E)\n",
    "poincare(S1, S2, S3)"
   ]
  }
 ],
 "metadata": {
  "kernelspec": {
   "display_name": "Python 3",
   "language": "python",
   "name": "python3"
  },
  "language_info": {
   "name": "python",
   "version": ""
  }
 },
 "nbformat": 4,
 "nbformat_minor": 2
}
